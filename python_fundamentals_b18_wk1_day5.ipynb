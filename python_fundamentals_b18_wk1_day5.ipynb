{
 "cells": [
  {
   "cell_type": "code",
   "execution_count": 1,
   "metadata": {},
   "outputs": [
    {
     "name": "stdout",
     "output_type": "stream",
     "text": [
      "['naresh', 'priyanka', 'suresh', 'malevica', 'bandhavi', 'satya', 'kiran']\n"
     ]
    }
   ],
   "source": [
    "#Introduction to list datatypes\n",
    "#list: a list is a collection of items in an order. list is classified as mutable datatype\n",
    "#how to define a list ---> [] ---> square bracket\n",
    "\n",
    "students = ['naresh', 'priyanka', 'suresh', 'malevica', 'bandhavi', 'satya', 'kiran'] # 0,1,2...\n",
    "print(students)"
   ]
  },
  {
   "cell_type": "code",
   "execution_count": 2,
   "metadata": {},
   "outputs": [
    {
     "data": {
      "text/plain": [
       "list"
      ]
     },
     "execution_count": 2,
     "metadata": {},
     "output_type": "execute_result"
    }
   ],
   "source": [
    "type(students)"
   ]
  },
  {
   "cell_type": "code",
   "execution_count": 3,
   "metadata": {},
   "outputs": [],
   "source": [
    "#understand the concept of indexing: 0,1,2,3,..."
   ]
  },
  {
   "cell_type": "code",
   "execution_count": 4,
   "metadata": {},
   "outputs": [
    {
     "name": "stdout",
     "output_type": "stream",
     "text": [
      "suresh\n"
     ]
    }
   ],
   "source": [
    "#req: how to access the element from the list? I want to access the suresh name on the output\n",
    "print(students[2])"
   ]
  },
  {
   "cell_type": "code",
   "execution_count": 5,
   "metadata": {},
   "outputs": [
    {
     "name": "stdout",
     "output_type": "stream",
     "text": [
      "bandhavi\n"
     ]
    }
   ],
   "source": [
    "#req:to access bandhavi's name on the output\n",
    "print(students[4])"
   ]
  },
  {
   "cell_type": "code",
   "execution_count": 6,
   "metadata": {},
   "outputs": [],
   "source": [
    "#reassigning, adding and deleting the elements from the list"
   ]
  },
  {
   "cell_type": "code",
   "execution_count": 7,
   "metadata": {},
   "outputs": [
    {
     "name": "stdout",
     "output_type": "stream",
     "text": [
      "['naresh', 'priyanka', 'mahesh', 'malevica', 'bandhavi', 'satya', 'kiran']\n"
     ]
    }
   ],
   "source": [
    "#reassigning the element from the list\n",
    "# suresh ---> mahesh\n",
    "students[2] = 'mahesh'\n",
    "print(students)"
   ]
  },
  {
   "cell_type": "code",
   "execution_count": 8,
   "metadata": {},
   "outputs": [
    {
     "name": "stdout",
     "output_type": "stream",
     "text": [
      "['naresh', 'priyanka', 'mahesh', 'malevica', 'bandhavi', 'satya', 'kiran', 'phani']\n"
     ]
    }
   ],
   "source": [
    "#adding the elements to the list: phani to list\n",
    "students.append('phani')\n",
    "print(students)"
   ]
  },
  {
   "cell_type": "code",
   "execution_count": 9,
   "metadata": {},
   "outputs": [],
   "source": [
    "#NOTE: append will be always adding the element at the end of the list"
   ]
  },
  {
   "cell_type": "code",
   "execution_count": 18,
   "metadata": {},
   "outputs": [
    {
     "name": "stdout",
     "output_type": "stream",
     "text": [
      "['naresh', 'priyanka', 'mahesh', 'malevica', 'bandhavi', 'satya', 'kiran', 'phani', 'pranathi']\n"
     ]
    }
   ],
   "source": [
    "#req: to ad pranathi name to our list\n",
    "students.append('pranathi')\n",
    "print(students)"
   ]
  },
  {
   "cell_type": "code",
   "execution_count": 23,
   "metadata": {},
   "outputs": [
    {
     "name": "stdout",
     "output_type": "stream",
     "text": [
      "['naresh', 'priyanka', 'mahesh', 'neha', 'malevica', 'bandhavi', 'satya', 'kiran', 'phani', 'pranathi']\n"
     ]
    }
   ],
   "source": [
    "#req: add neha at the 3 index position\n",
    "students.insert(3, 'neha')\n",
    "print(students)"
   ]
  },
  {
   "cell_type": "code",
   "execution_count": 24,
   "metadata": {},
   "outputs": [],
   "source": [
    "#Interview question - can you pls exp me the diff btw append and insert in a list datatype"
   ]
  },
  {
   "cell_type": "code",
   "execution_count": 25,
   "metadata": {},
   "outputs": [
    {
     "name": "stdout",
     "output_type": "stream",
     "text": [
      "['naresh', 'priyanka', 'mahesh', 'neha', 'malevica', 'bandhavi', 'satya', 'kiran', 'phani', 'pranathi']\n"
     ]
    }
   ],
   "source": [
    "#deleting elements from the list\n",
    "#req to delete mahesh\n",
    "print(students)"
   ]
  },
  {
   "cell_type": "code",
   "execution_count": 26,
   "metadata": {},
   "outputs": [
    {
     "name": "stdout",
     "output_type": "stream",
     "text": [
      "['naresh', 'priyanka', 'neha', 'malevica', 'bandhavi', 'satya', 'kiran', 'phani', 'pranathi']\n"
     ]
    }
   ],
   "source": [
    "del students[2]\n",
    "print(students)"
   ]
  },
  {
   "cell_type": "code",
   "execution_count": 27,
   "metadata": {},
   "outputs": [
    {
     "name": "stdout",
     "output_type": "stream",
     "text": [
      "['naresh', 'priyanka', 'neha', 'malevica', 'bandhavi', 'satya', 'kiran', 'phani', 'pranathi']\n"
     ]
    }
   ],
   "source": [
    "#understanding the .pop method\n",
    "#pop is used to delete the element from the list\n",
    "#it will create the carbon copy of the item deleted\n",
    "#by default pop will be deleting the items at the end of the list\n",
    "print(students)"
   ]
  },
  {
   "cell_type": "code",
   "execution_count": 28,
   "metadata": {},
   "outputs": [
    {
     "name": "stdout",
     "output_type": "stream",
     "text": [
      "['naresh', 'priyanka', 'neha', 'malevica', 'bandhavi', 'satya', 'kiran', 'phani']\n",
      "pranathi\n"
     ]
    }
   ],
   "source": [
    "x=students.pop()\n",
    "print(students)\n",
    "print(x)"
   ]
  },
  {
   "cell_type": "code",
   "execution_count": 29,
   "metadata": {},
   "outputs": [
    {
     "name": "stdout",
     "output_type": "stream",
     "text": [
      "['naresh', 'priyanka', 'neha', 'malevica', 'bandhavi', 'kiran', 'phani']\n",
      "satya\n"
     ]
    }
   ],
   "source": [
    "y = students.pop(5)\n",
    "print(students)\n",
    "print(y)"
   ]
  },
  {
   "cell_type": "code",
   "execution_count": 30,
   "metadata": {},
   "outputs": [
    {
     "name": "stdout",
     "output_type": "stream",
     "text": [
      "The Zen of Python, by Tim Peters\n",
      "\n",
      "Beautiful is better than ugly.\n",
      "Explicit is better than implicit.\n",
      "Simple is better than complex.\n",
      "Complex is better than complicated.\n",
      "Flat is better than nested.\n",
      "Sparse is better than dense.\n",
      "Readability counts.\n",
      "Special cases aren't special enough to break the rules.\n",
      "Although practicality beats purity.\n",
      "Errors should never pass silently.\n",
      "Unless explicitly silenced.\n",
      "In the face of ambiguity, refuse the temptation to guess.\n",
      "There should be one-- and preferably only one --obvious way to do it.\n",
      "Although that way may not be obvious at first unless you're Dutch.\n",
      "Now is better than never.\n",
      "Although never is often better than *right* now.\n",
      "If the implementation is hard to explain, it's a bad idea.\n",
      "If the implementation is easy to explain, it may be a good idea.\n",
      "Namespaces are one honking great idea -- let's do more of those!\n"
     ]
    }
   ],
   "source": [
    "#basic guiding principles:\n",
    "import this"
   ]
  },
  {
   "cell_type": "code",
   "execution_count": null,
   "metadata": {},
   "outputs": [],
   "source": []
  }
 ],
 "metadata": {
  "kernelspec": {
   "display_name": "Python 3",
   "language": "python",
   "name": "python3"
  },
  "language_info": {
   "codemirror_mode": {
    "name": "ipython",
    "version": 3
   },
   "file_extension": ".py",
   "mimetype": "text/x-python",
   "name": "python",
   "nbconvert_exporter": "python",
   "pygments_lexer": "ipython3",
   "version": "3.7.6"
  }
 },
 "nbformat": 4,
 "nbformat_minor": 4
}
