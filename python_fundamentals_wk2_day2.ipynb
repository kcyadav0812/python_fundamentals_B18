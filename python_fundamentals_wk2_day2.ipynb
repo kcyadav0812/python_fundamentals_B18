{
 "cells": [
  {
   "cell_type": "code",
   "execution_count": 2,
   "metadata": {},
   "outputs": [
    {
     "name": "stdout",
     "output_type": "stream",
     "text": [
      "keep up the good work Devi\n"
     ]
    }
   ],
   "source": [
    "#introduction to for looping requirements:\n",
    "my_students = ['devi','naresh','satya','neha','vijaylaxmi','malveeca','adil','amit','mahesh']\n",
    "print(f\"keep up the good work {my_students[0].title()}\")"
   ]
  },
  {
   "cell_type": "code",
   "execution_count": 3,
   "metadata": {},
   "outputs": [],
   "source": [
    "#General syntax\n",
    "#for tempvar(anyname) in mainvar:\n",
    "#   print(tempvar)  #indentation"
   ]
  },
  {
   "cell_type": "code",
   "execution_count": 4,
   "metadata": {},
   "outputs": [
    {
     "name": "stdout",
     "output_type": "stream",
     "text": [
      "devi\n",
      "naresh\n",
      "satya\n",
      "neha\n",
      "vijaylaxmi\n",
      "malveeca\n",
      "adil\n",
      "amit\n",
      "mahesh\n"
     ]
    }
   ],
   "source": [
    "for student in my_students:\n",
    "    print(student)\n"
   ]
  },
  {
   "cell_type": "code",
   "execution_count": 5,
   "metadata": {},
   "outputs": [
    {
     "name": "stdout",
     "output_type": "stream",
     "text": [
      "devi\n",
      "naresh\n",
      "satya\n",
      "neha\n",
      "vijaylaxmi\n",
      "malveeca\n",
      "adil\n",
      "amit\n",
      "mahesh\n"
     ]
    }
   ],
   "source": [
    "for x in my_students:\n",
    "    print(x)"
   ]
  },
  {
   "cell_type": "code",
   "execution_count": 6,
   "metadata": {},
   "outputs": [
    {
     "name": "stdout",
     "output_type": "stream",
     "text": [
      "Keep up the good work, Devi\n",
      "Keep up the good work, Naresh\n",
      "Keep up the good work, Satya\n",
      "Keep up the good work, Neha\n",
      "Keep up the good work, Vijaylaxmi\n",
      "Keep up the good work, Malveeca\n",
      "Keep up the good work, Adil\n",
      "Keep up the good work, Amit\n",
      "Keep up the good work, Mahesh\n"
     ]
    }
   ],
   "source": [
    "for x in my_students:\n",
    "    print(f\"Keep up the good work, {x.title()}\")"
   ]
  },
  {
   "cell_type": "code",
   "execution_count": 7,
   "metadata": {},
   "outputs": [
    {
     "name": "stdout",
     "output_type": "stream",
     "text": [
      "Keep up the good work, Devi\n",
      "Looking forward to receive your practise file for today as well, Devi\n",
      "Keep up the good work, Naresh\n",
      "Looking forward to receive your practise file for today as well, Naresh\n",
      "Keep up the good work, Satya\n",
      "Looking forward to receive your practise file for today as well, Satya\n",
      "Keep up the good work, Neha\n",
      "Looking forward to receive your practise file for today as well, Neha\n",
      "Keep up the good work, Vijaylaxmi\n",
      "Looking forward to receive your practise file for today as well, Vijaylaxmi\n",
      "Keep up the good work, Malveeca\n",
      "Looking forward to receive your practise file for today as well, Malveeca\n",
      "Keep up the good work, Adil\n",
      "Looking forward to receive your practise file for today as well, Adil\n",
      "Keep up the good work, Amit\n",
      "Looking forward to receive your practise file for today as well, Amit\n",
      "Keep up the good work, Mahesh\n",
      "Looking forward to receive your practise file for today as well, Mahesh\n"
     ]
    }
   ],
   "source": [
    "#enhancement of code\n",
    "for x in my_students:\n",
    "    print(f\"Keep up the good work, {x.title()}\")\n",
    "    print(f\"Looking forward to receive your practise file for today as well, {x.title()}\")"
   ]
  },
  {
   "cell_type": "code",
   "execution_count": 8,
   "metadata": {},
   "outputs": [
    {
     "name": "stdout",
     "output_type": "stream",
     "text": [
      "Keep up the good work, Devi\n",
      "Looking forward to receive your practise file for today as well, Devi\n",
      "\n",
      "Keep up the good work, Naresh\n",
      "Looking forward to receive your practise file for today as well, Naresh\n",
      "\n",
      "Keep up the good work, Satya\n",
      "Looking forward to receive your practise file for today as well, Satya\n",
      "\n",
      "Keep up the good work, Neha\n",
      "Looking forward to receive your practise file for today as well, Neha\n",
      "\n",
      "Keep up the good work, Vijaylaxmi\n",
      "Looking forward to receive your practise file for today as well, Vijaylaxmi\n",
      "\n",
      "Keep up the good work, Malveeca\n",
      "Looking forward to receive your practise file for today as well, Malveeca\n",
      "\n",
      "Keep up the good work, Adil\n",
      "Looking forward to receive your practise file for today as well, Adil\n",
      "\n",
      "Keep up the good work, Amit\n",
      "Looking forward to receive your practise file for today as well, Amit\n",
      "\n",
      "Keep up the good work, Mahesh\n",
      "Looking forward to receive your practise file for today as well, Mahesh\n",
      "\n"
     ]
    }
   ],
   "source": [
    "for x in my_students:\n",
    "    print(f\"Keep up the good work, {x.title()}\")\n",
    "    print(f\"Looking forward to receive your practise file for today as well, {x.title()}\\n\")"
   ]
  },
  {
   "cell_type": "code",
   "execution_count": 9,
   "metadata": {},
   "outputs": [],
   "source": [
    "#introduction to if conditions:\n",
    "#rain ---> #occurance of an event\n",
    "#if it is rainint outside\n",
    "#   I will be at home\n",
    "#if not:\n",
    "#   I can go out"
   ]
  },
  {
   "cell_type": "code",
   "execution_count": 10,
   "metadata": {},
   "outputs": [
    {
     "name": "stdout",
     "output_type": "stream",
     "text": [
      "Audi\n",
      "Maruti\n",
      "Toyota\n",
      "Benz\n",
      "BMW\n"
     ]
    }
   ],
   "source": [
    "cars = ['audi','maruti','toyota','benz','bmw']\n",
    "#req ---> if we are receiving bmw --> I have to print in capital case\n",
    "#    ---> for other brands ---> I have to print in a title case\n",
    "for car in cars:\n",
    "    if car == 'bmw': #equlity testing\n",
    "        print(car.upper())\n",
    "    else:\n",
    "        print(car.title())"
   ]
  },
  {
   "cell_type": "code",
   "execution_count": null,
   "metadata": {},
   "outputs": [],
   "source": []
  }
 ],
 "metadata": {
  "kernelspec": {
   "display_name": "Python 3",
   "language": "python",
   "name": "python3"
  },
  "language_info": {
   "codemirror_mode": {
    "name": "ipython",
    "version": 3
   },
   "file_extension": ".py",
   "mimetype": "text/x-python",
   "name": "python",
   "nbconvert_exporter": "python",
   "pygments_lexer": "ipython3",
   "version": "3.7.6"
  }
 },
 "nbformat": 4,
 "nbformat_minor": 4
}
